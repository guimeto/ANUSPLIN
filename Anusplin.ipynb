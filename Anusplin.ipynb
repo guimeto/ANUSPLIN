{
 "cells": [
  {
   "attachments": {
    "image.png": {
     "image/png": "[encoded data removed]"
    }
   },
   "cell_type": "markdown",
   "metadata": {},
   "source": [
    "## ANUSPLIN10km: ASCII grid --> Netcdf \n",
    "\n",
    "\n",
    "Agriculture and Agri-Food Canada have produced daily precipitation, minimum and maximum temperature across Canada (south of 60°N) for climate related application purpose using thin-plate smoothing splines, as implemented in the ANUSPLIN climate modeling software (Hutchinson et al., 2009; McKenney et al., 2011). \n",
    "\n",
    "The so-called ANUSPLIN data uses ground-based observations and generates daily gridded data from 1951 to 2017 on a Lambert conformal conic projection with 5’ arc minutes spacing (equivalent to a resolution of about 10 km). The key strength of this spatial interpolation method is its global dependence on all data, permitting robust and stable determination of spatially varying dependences on elevation. Hutchinson et al. (2009) have shown that while ANUSPLIN fall month’s absolute errors were remarkably small, those of winter months were quite large due to rather difficult observation and measurement conditions.\n",
    "\n",
    "However, the recent comparison between various (ANUSPLIN and other) gridded observed products shows compatible values for mean total precipitation, wet days occurrence and mean/extreme intensity of daily precipitation, over both southern Canada and eastern USA in winter (e.g. Diaconescu et al., 2016). \n",
    "\n",
    "\n",
    "Data are available on: \n",
    "\n",
    "ftp://ftp.nrcan.gc.ca/pub/outgoing/canada_daily_grids\n",
    "\n",
    "This dataset is only availabe with ascii grid format, I'll here show how to convert into Netcdf using Python. \n",
    "\n",
    "- can_ascgrids_dly_metadata.txt file gives information on Gridded 10km Canada Daily Temperature and Precipitation Dataset. \n",
    "\n",
    "\n",
    "NumPy has the ability to read the ASCIIGRID format directly using its loadtxt() method designed to read arrays from text files. The first six lines of min1950_1.asc consist of the header, which are not part of the array. The following lines are a sample of a grid header:\n",
    "\n",
    "\n",
    "![image.png](attachment:image.png)\n",
    "\n",
    "\n",
    "Line 1 contains the number of columns in the grid, which is synonymous with the x axis. Line 2 represents the y axis described as a number of rows. Line 3 represents the x coordinate of the lower left corner, which is the minimum x value. Line 4 is the corresponding minimum y value in the lower left corner of the grid. Line 5 is the cell size or resolution of the raster. Because the cells are square, only one size value is needed, as opposed to the separate x and y resolution values in most geospatial rasters. The fifth line is no data value, which is a number assigned to any cell for which a value is not provided. \n"
   ]
  },
  {
   "cell_type": "code",
   "execution_count": 1,
   "metadata": {
    "collapsed": true
   },
   "outputs": [],
   "source": [
    "import os\n",
    "import pandas as pd \n",
    "import numpy as np\n",
    "from netCDF4 import Dataset, date2num\n",
    "from datetime import datetime, timedelta, date\n",
    "\n",
    "cur_dir = os.path.realpath(os.path.dirname('__file__'))\n",
    "\n",
    "path = './ascii_grid'\n",
    "variable = 'min'"
   ]
  },
  {
   "cell_type": "markdown",
   "metadata": {},
   "source": [
    "Function to read ascci_grid information and return informations. "
   ]
  },
  {
   "cell_type": "code",
   "execution_count": 3,
   "metadata": {
    "collapsed": true
   },
   "outputs": [],
   "source": [
    "def read_grd(filename):\n",
    "    with open(filename) as infile:\n",
    "        ncols = int(infile.readline().split()[1])\n",
    "        nrows = int(infile.readline().split()[1])\n",
    "        xllcorner = float(infile.readline().split()[1])\n",
    "        yllcorner = float(infile.readline().split()[1])\n",
    "        cellsize = float(infile.readline().split()[1])\n",
    "        nodata_value = float(infile.readline().split()[1])\n",
    "        \n",
    "    longitude = xllcorner + cellsize * np.arange(ncols)\n",
    "    latitude = yllcorner + cellsize * np.arange(nrows)\n",
    "    value = np.loadtxt(filename, skiprows=6)\n",
    "\n",
    "    return longitude, latitude, value, ncols, nrows, nodata_value\n"
   ]
  },
  {
   "cell_type": "markdown",
   "metadata": {},
   "source": [
    "We will work only with january 1950  and make a loop over every days. \n",
    "\n",
    "All years are formatted as leap years with 29 days for February. The asciigrids for Julian day 60 are missing in the non-leap years."
   ]
  },
  {
   "cell_type": "code",
   "execution_count": 14,
   "metadata": {},
   "outputs": [],
   "source": [
    "for year in range(1950,1951):\n",
    "    path =  'ascii_grid/canada_daily' + str(year) + '/' + str(year)\n",
    "    for month in range(1,2):\n",
    "        if  month == 1:\n",
    "            dmin, dmax =(1,31)\n",
    "        elif month == 2:\n",
    "            if year % 4 == 0 :\n",
    "                dmin, dmax =(32,60)\n",
    "            else:\n",
    "                dmin, dmax =(32,59)\n",
    "        elif month == 3:\n",
    "            dmin, dmax =(61,91)\n",
    "        elif month == 4:\n",
    "            dmin, dmax =(92,121)\n",
    "        elif month == 5:\n",
    "            dmin, dmax =(122,152)\n",
    "        elif month == 6:\n",
    "            dmin, dmax =(153,182)\n",
    "        elif month == 7:\n",
    "            dmin, dmax =(183,213)\n",
    "        elif month == 8:\n",
    "            dmin, dmax =(214,244)\n",
    "        elif month == 9:\n",
    "            dmin, dmax =(245,274)\n",
    "        elif month == 10:\n",
    "            dmin, dmax =(275,305)\n",
    "        elif month == 11:\n",
    "            dmin, dmax =(306,335)\n",
    "        elif month == 12:\n",
    "            dmin, dmax =(336,366)\n",
    "        \n",
    "        field = []\n",
    "        for d in range(dmin,dmax+1):           \n",
    "            fichier = variable + str(year) + '_' + str(d) + '.asc'                                  \n",
    "            fichier = os.path.join(cur_dir, path, fichier)        \n",
    "            longitude, latitude, value, ncols, nrows, nodata_value = read_grd(fichier)                 \n",
    "            xx, yy = np.meshgrid(longitude, latitude)\n",
    "            zz = np.reshape(value, ( nrows, ncols))[::-1]\n",
    "            zz[zz==nodata_value]=np.nan\n",
    "            field.append(zz)\n",
    "            \n",
    "        concatenated = np.dstack(field)\n",
    "\n",
    "        start = date(year, month, 1)\n",
    "        rng = pd.date_range(start, periods= (dmax - dmin +1), freq='D')\n",
    "        tot = dmax - dmin +1\n",
    "        \n",
    "        ###### Write Netcdf File \n",
    "        C = Dataset('./netcdf_grid/ANUSPLIN_10km_tasmin_ll_'+str(year)+\"_{:02d}\".format(month)+'.nc', 'w', format=\"NETCDF4\")\n",
    "        C.description = 'ANUSPLIN data'\n",
    "        C.conventions = 'CF-1.0'  \n",
    "        C.model_id = 'ANUSPLIN_10km'\n",
    "        C.grid='latlon'\n",
    "        C.institution = 'UQAM - ESCER Center, University of Quebec in Montreal'\n",
    "        C.contact = 'Guillaume Dueymes'\n",
    "        ########################################\n",
    "        # Dimensions\n",
    "        C.createDimension('x', ncols)\n",
    "        C.createDimension('y', nrows)\n",
    "        C.createDimension('time', tot)\n",
    "        \n",
    "        var=C.createVariable('Tasmin', np.float32, ('y','x','time')) \n",
    "        var.long_name = 'Daily_minimum_temperature'\n",
    "        var.unit = 'Celcius'\n",
    "        latitude=C.createVariable('latitude', np.float32, ('y','x'))\n",
    "        longitude=C.createVariable('longitude', np.float32, ('y','x')) \n",
    "        latitude.units = 'degrees north'\n",
    "        longitude.units = 'degrees east'\n",
    "        \n",
    "        # Write time dimension\n",
    "        time = C.createVariable('time', np.float64, ('time',))\n",
    "        time.long_name = 'time'\n",
    "        time.units = 'days since ' + str(year) + '-' + '{:02d}'.format(int(month))+'-01 00:00:00.0'\n",
    "        time.calendar = \"proleptic_gregorian\"\n",
    "        dates = [datetime(year,month,1)+n*timedelta(days=1) for n in range(concatenated.shape[2])]\n",
    "        time[:] = date2num(dates,units=time.units,calendar=time.calendar)\n",
    "        \n",
    "        # Write latlon informations\n",
    "        setattr(C.variables['latitude'],'Latitude','Lat')\n",
    "        setattr(C.variables['longitude'],'Longitude','Lon')\n",
    "         \n",
    "        latitude[:,:] = yy\n",
    "        longitude[:,:] = xx\n",
    "        C.variables['Tasmin'][:,:,:] = concatenated[::]\n",
    "        C.close()"
   ]
  },
  {
   "cell_type": "markdown",
   "metadata": {},
   "source": [
    "Result: \n",
    "\n",
    "<img src=\"./Tasmin_in_ANUSPLIN_10km_tasmin_ll_1950_01.png\" alt=\"Seaborn\" width=\"60%\" height=\"70%\">"
   ]
  },
  {
   "cell_type": "code",
   "execution_count": null,
   "metadata": {
    "collapsed": true
   },
   "outputs": [],
   "source": []
  },
  {
   "cell_type": "code",
   "execution_count": null,
   "metadata": {
    "collapsed": true
   },
   "outputs": [],
   "source": []
  },
  {
   "cell_type": "code",
   "execution_count": null,
   "metadata": {
    "collapsed": true
   },
   "outputs": [],
   "source": []
  }
 ],
 "metadata": {
  "kernelspec": {
   "display_name": "Python 3",
   "language": "python",
   "name": "python3"
  },
  "language_info": {
   "codemirror_mode": {
    "name": "ipython",
    "version": 3
   },
   "file_extension": ".py",
   "mimetype": "text/x-python",
   "name": "python",
   "nbconvert_exporter": "python",
   "pygments_lexer": "ipython3",
   "version": "3.6.7"
  }
 },
 "nbformat": 4,
 "nbformat_minor": 2
}
